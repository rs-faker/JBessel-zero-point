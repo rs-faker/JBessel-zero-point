{
 "cells": [
  {
   "cell_type": "code",
   "execution_count": 1,
   "metadata": {},
   "outputs": [
    {
     "data": {
      "text/plain": [
       "funcjn (generic function with 1 method)"
      ]
     },
     "metadata": {},
     "output_type": "display_data"
    }
   ],
   "source": [
    "#Bessel function\n",
    "function funcjn(z,n,num)\n",
    "    Jn = 0.0\n",
    "    for m in 0 : num + 1\n",
    "        coef = (-1)^m\n",
    "        demon = factorial(big(m)) * factorial(big(m + n))\n",
    "        vari = (z / 2)^(2 * m + n)\n",
    "        Jn += coef * vari / demon\n",
    "    end\n",
    "    return Jn\n",
    "end"
   ]
  },
  {
   "cell_type": "code",
   "execution_count": 7,
   "metadata": {},
   "outputs": [
    {
     "data": {
      "text/plain": [
       "dfuncjn (generic function with 1 method)"
      ]
     },
     "metadata": {},
     "output_type": "display_data"
    }
   ],
   "source": [
    "#Derivative of Bessel function\n",
    "function dfuncjn(z, n ,num)\n",
    "    dJn = (n / z) * funcjn(z,n,num) - funcjn(z,n+1,num) #J_n'(x) = n/x * J_n(x) - J_n+1(x)\n",
    "    return dJn\n",
    "end"
   ]
  },
  {
   "cell_type": "code",
   "execution_count": 8,
   "metadata": {},
   "outputs": [
    {
     "name": "stdout",
     "output_type": "stream",
     "text": [
      "2.404825557695772720889308475113905347521267669159899152052504840661899693083226 + 0.0im\n"
     ]
    }
   ],
   "source": [
    "#Newtom Method, Besseljzeros\n",
    "function newton_method()\n",
    "    n = 0\n",
    "    num = 1000\n",
    "\n",
    "    count = 0\n",
    "    z0 = 1.0 + 0.0im\n",
    "    z = z0\n",
    "    while true\n",
    "        if dfuncjn(z,n,num) == 0\n",
    "            println(\"dfunc = 0, Stop\")\n",
    "            break\n",
    "        end\n",
    "\n",
    "        z = complex(z0 - funcjn(z,n,num) / dfuncjn(z,n,num))\n",
    "        if abs(complex(funcjn(z,n,num))) < 1e-15\n",
    "            break\n",
    "        end\n",
    "        if count == 10000\n",
    "            break\n",
    "        end\n",
    "        \n",
    "        z0 = z\n",
    "        count += 1\n",
    "    end\n",
    "    println(z)\n",
    "end\n",
    "newton_method()"
   ]
  },
  {
   "cell_type": "code",
   "execution_count": 14,
   "metadata": {},
   "outputs": [
    {
     "name": "stdout",
     "output_type": "stream",
     "text": [
      "J_{0}の1 番目のゼロ点の位置は 2.404825557695773\n",
      "J_{1}の1 番目のゼロ点の位置は 3.8317059702075125\n",
      "J_{2}の1 番目のゼロ点の位置は 5.135622301840683\n",
      "J_{3}の1 番目のゼロ点の位置は 6.380161895923983\n",
      "J_{4}の1 番目のゼロ点の位置は 7.588342434503804\n",
      "J_{5}の1 番目のゼロ点の位置は 8.771483815959954\n",
      "J_{6}の1 番目のゼロ点の位置は 9.936109524217684\n",
      "J_{7}の1 番目のゼロ点の位置は 11.086370019245084\n",
      "J_{8}の1 番目のゼロ点の位置は 12.225092264004655\n",
      "J_{9}の1 番目のゼロ点の位置は 13.35430047743533\n",
      "J_{10}の1 番目のゼロ点の位置は 14.475500686554541\n"
     ]
    }
   ],
   "source": [
    "#以下URL参照 https://qiita.com/cometscome_phys/items/31d0b811345a3e12fcef\n",
    "using FunctionZeros\n",
    "n=1\n",
    "for ν=0:10 #J_{ν}(x)のn=10番目のゼロ点の位置\n",
    "    Jν_zero = besselj_zero(ν, n)\n",
    "    println(\"J_{$ν}の$n 番目のゼロ点の位置は $Jν_zero\")\n",
    "end\n"
   ]
  }
 ],
 "metadata": {
  "kernelspec": {
   "display_name": "Julia 1.10.1",
   "language": "julia",
   "name": "julia-1.10"
  },
  "language_info": {
   "file_extension": ".jl",
   "mimetype": "application/julia",
   "name": "julia",
   "version": "1.10.1"
  }
 },
 "nbformat": 4,
 "nbformat_minor": 2
}
